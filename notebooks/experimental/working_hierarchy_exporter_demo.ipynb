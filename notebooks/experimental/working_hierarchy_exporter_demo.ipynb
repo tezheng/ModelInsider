{
 "cells": [
  {
   "cell_type": "markdown",
   "metadata": {},
   "source": [
    "# Working Hierarchy Exporter Demo\n",
    "\n",
    "This notebook demonstrates a working version of the hierarchy exporter that avoids the hanging issue."
   ]
  },
  {
   "cell_type": "code",
   "execution_count": 1,
   "metadata": {},
   "outputs": [],
   "source": [
    "# Setup and imports\n",
    "import sys\n",
    "sys.path.append('/mnt/d/BYOM/modelexport')\n",
    "\n",
    "from transformers import AutoModel, AutoTokenizer\n",
    "import torch\n",
    "import json\n",
    "from pathlib import Path\n",
    "\n",
    "# Import the HTP exporter which is known to work\n",
    "from modelexport.strategies.htp.htp_hierarchy_exporter import HierarchyExporter"
   ]
  },
  {
   "cell_type": "markdown",
   "metadata": {},
   "source": [
    "## Step 1: Load BERT-tiny Model"
   ]
  },
  {
   "cell_type": "code",
   "execution_count": 2,
   "metadata": {},
   "outputs": [
    {
     "name": "stdout",
     "output_type": "stream",
     "text": [
      "Model: BertModel\n",
      "Input shape: torch.Size([1, 128])\n"
     ]
    }
   ],
   "source": [
    "# Load model and tokenizer\n",
    "model_name = \"prajjwal1/bert-tiny\"\n",
    "model = AutoModel.from_pretrained(model_name)\n",
    "tokenizer = AutoTokenizer.from_pretrained(model_name)\n",
    "\n",
    "# Prepare sample input\n",
    "text = \"Hello, world!\"\n",
    "inputs = tokenizer(text, return_tensors=\"pt\", max_length=128, padding=\"max_length\", truncation=True)\n",
    "input_ids = inputs[\"input_ids\"]\n",
    "attention_mask = inputs[\"attention_mask\"]\n",
    "\n",
    "print(f\"Model: {model.__class__.__name__}\")\n",
    "print(f\"Input shape: {input_ids.shape}\")"
   ]
  },
  {
   "cell_type": "markdown",
   "metadata": {},
   "source": [
    "## Step 2: Use HTP Exporter (Known Working Implementation)"
   ]
  },
  {
   "cell_type": "code",
   "execution_count": 3,
   "metadata": {},
   "outputs": [
    {
     "name": "stdout",
     "output_type": "stream",
     "text": [
      "Processing 4 ONNX Slice nodes for context tagging\n"
     ]
    },
    {
     "ename": "KeyError",
     "evalue": "'context'",
     "output_type": "error",
     "traceback": [
      "\u001b[31m---------------------------------------------------------------------------\u001b[39m",
      "\u001b[31mKeyError\u001b[39m                                  Traceback (most recent call last)",
      "\u001b[36mCell\u001b[39m\u001b[36m \u001b[39m\u001b[32mIn[3]\u001b[39m\u001b[32m, line 11\u001b[39m\n\u001b[32m      8\u001b[39m \u001b[38;5;66;03m# Export\u001b[39;00m\n\u001b[32m      9\u001b[39m output_path = \u001b[38;5;28mstr\u001b[39m(output_dir / \u001b[33m\"\u001b[39m\u001b[33mbert_tiny_htp.onnx\u001b[39m\u001b[33m\"\u001b[39m)\n\u001b[32m---> \u001b[39m\u001b[32m11\u001b[39m export_result = \u001b[43mexporter\u001b[49m\u001b[43m.\u001b[49m\u001b[43mexport\u001b[49m\u001b[43m(\u001b[49m\n\u001b[32m     12\u001b[39m \u001b[43m    \u001b[49m\u001b[43mmodel\u001b[49m\u001b[43m=\u001b[49m\u001b[43mmodel\u001b[49m\u001b[43m,\u001b[49m\n\u001b[32m     13\u001b[39m \u001b[43m    \u001b[49m\u001b[43mexample_inputs\u001b[49m\u001b[43m=\u001b[49m\u001b[43m(\u001b[49m\u001b[43minput_ids\u001b[49m\u001b[43m,\u001b[49m\u001b[43m \u001b[49m\u001b[43mattention_mask\u001b[49m\u001b[43m)\u001b[49m\u001b[43m,\u001b[49m\n\u001b[32m     14\u001b[39m \u001b[43m    \u001b[49m\u001b[43moutput_path\u001b[49m\u001b[43m=\u001b[49m\u001b[43moutput_path\u001b[49m\u001b[43m,\u001b[49m\n\u001b[32m     15\u001b[39m \u001b[43m    \u001b[49m\u001b[43minput_names\u001b[49m\u001b[43m=\u001b[49m\u001b[43m[\u001b[49m\u001b[33;43m'\u001b[39;49m\u001b[33;43minput_ids\u001b[39;49m\u001b[33;43m'\u001b[39;49m\u001b[43m,\u001b[49m\u001b[43m \u001b[49m\u001b[33;43m'\u001b[39;49m\u001b[33;43mattention_mask\u001b[39;49m\u001b[33;43m'\u001b[39;49m\u001b[43m]\u001b[49m\u001b[43m,\u001b[49m\n\u001b[32m     16\u001b[39m \u001b[43m    \u001b[49m\u001b[43moutput_names\u001b[49m\u001b[43m=\u001b[49m\u001b[43m[\u001b[49m\u001b[33;43m'\u001b[39;49m\u001b[33;43mlast_hidden_state\u001b[39;49m\u001b[33;43m'\u001b[39;49m\u001b[43m]\u001b[49m\u001b[43m,\u001b[49m\n\u001b[32m     17\u001b[39m \u001b[43m    \u001b[49m\u001b[43mdynamic_axes\u001b[49m\u001b[43m=\u001b[49m\u001b[43m{\u001b[49m\n\u001b[32m     18\u001b[39m \u001b[43m        \u001b[49m\u001b[33;43m'\u001b[39;49m\u001b[33;43minput_ids\u001b[39;49m\u001b[33;43m'\u001b[39;49m\u001b[43m:\u001b[49m\u001b[43m \u001b[49m\u001b[43m{\u001b[49m\u001b[32;43m0\u001b[39;49m\u001b[43m:\u001b[49m\u001b[43m \u001b[49m\u001b[33;43m'\u001b[39;49m\u001b[33;43mbatch_size\u001b[39;49m\u001b[33;43m'\u001b[39;49m\u001b[43m,\u001b[49m\u001b[43m \u001b[49m\u001b[32;43m1\u001b[39;49m\u001b[43m:\u001b[49m\u001b[43m \u001b[49m\u001b[33;43m'\u001b[39;49m\u001b[33;43msequence\u001b[39;49m\u001b[33;43m'\u001b[39;49m\u001b[43m}\u001b[49m\u001b[43m,\u001b[49m\n\u001b[32m     19\u001b[39m \u001b[43m        \u001b[49m\u001b[33;43m'\u001b[39;49m\u001b[33;43mattention_mask\u001b[39;49m\u001b[33;43m'\u001b[39;49m\u001b[43m:\u001b[49m\u001b[43m \u001b[49m\u001b[43m{\u001b[49m\u001b[32;43m0\u001b[39;49m\u001b[43m:\u001b[49m\u001b[43m \u001b[49m\u001b[33;43m'\u001b[39;49m\u001b[33;43mbatch_size\u001b[39;49m\u001b[33;43m'\u001b[39;49m\u001b[43m,\u001b[49m\u001b[43m \u001b[49m\u001b[32;43m1\u001b[39;49m\u001b[43m:\u001b[49m\u001b[43m \u001b[49m\u001b[33;43m'\u001b[39;49m\u001b[33;43msequence\u001b[39;49m\u001b[33;43m'\u001b[39;49m\u001b[43m}\u001b[49m\u001b[43m,\u001b[49m\n\u001b[32m     20\u001b[39m \u001b[43m        \u001b[49m\u001b[33;43m'\u001b[39;49m\u001b[33;43mlast_hidden_state\u001b[39;49m\u001b[33;43m'\u001b[39;49m\u001b[43m:\u001b[49m\u001b[43m \u001b[49m\u001b[43m{\u001b[49m\u001b[32;43m0\u001b[39;49m\u001b[43m:\u001b[49m\u001b[43m \u001b[49m\u001b[33;43m'\u001b[39;49m\u001b[33;43mbatch_size\u001b[39;49m\u001b[33;43m'\u001b[39;49m\u001b[43m,\u001b[49m\u001b[43m \u001b[49m\u001b[32;43m1\u001b[39;49m\u001b[43m:\u001b[49m\u001b[43m \u001b[49m\u001b[33;43m'\u001b[39;49m\u001b[33;43msequence\u001b[39;49m\u001b[33;43m'\u001b[39;49m\u001b[43m}\u001b[49m\n\u001b[32m     21\u001b[39m \u001b[43m    \u001b[49m\u001b[43m}\u001b[49m\u001b[43m,\u001b[49m\n\u001b[32m     22\u001b[39m \u001b[43m    \u001b[49m\u001b[43mopset_version\u001b[49m\u001b[43m=\u001b[49m\u001b[32;43m17\u001b[39;49m\n\u001b[32m     23\u001b[39m \u001b[43m)\u001b[49m\n\u001b[32m     25\u001b[39m \u001b[38;5;28mprint\u001b[39m(\u001b[33mf\u001b[39m\u001b[33m\"\u001b[39m\u001b[33mExport completed!\u001b[39m\u001b[33m\"\u001b[39m)\n\u001b[32m     26\u001b[39m \u001b[38;5;28mprint\u001b[39m(\u001b[33mf\u001b[39m\u001b[33m\"\u001b[39m\u001b[33mOutput: \u001b[39m\u001b[38;5;132;01m{\u001b[39;00moutput_path\u001b[38;5;132;01m}\u001b[39;00m\u001b[33m\"\u001b[39m)\n",
      "\u001b[36mFile \u001b[39m\u001b[32m/mnt/d/BYOM/modelexport/modelexport/strategies/htp/htp_hierarchy_exporter.py:482\u001b[39m, in \u001b[36mHierarchyExporter.export\u001b[39m\u001b[34m(self, model, example_inputs, output_path, **kwargs)\u001b[39m\n\u001b[32m    479\u001b[39m \u001b[38;5;28;01mif\u001b[39;00m \u001b[38;5;28mself\u001b[39m.strategy == \u001b[33m\"\u001b[39m\u001b[33mhtp\u001b[39m\u001b[33m\"\u001b[39m:\n\u001b[32m    480\u001b[39m     \u001b[38;5;66;03m# HTP: Hierarchical Trace-and-Project approach\u001b[39;00m\n\u001b[32m    481\u001b[39m     \u001b[38;5;28;01mif\u001b[39;00m \u001b[38;5;28mself\u001b[39m._use_builtin_module_tracking:\n\u001b[32m--> \u001b[39m\u001b[32m482\u001b[39m         \u001b[38;5;28;01mreturn\u001b[39;00m \u001b[38;5;28;43mself\u001b[39;49m\u001b[43m.\u001b[49m\u001b[43m_export_htp_builtin_tracking\u001b[49m\u001b[43m(\u001b[49m\u001b[43mmodel\u001b[49m\u001b[43m,\u001b[49m\u001b[43m \u001b[49m\u001b[43mexample_inputs\u001b[49m\u001b[43m,\u001b[49m\u001b[43m \u001b[49m\u001b[43moutput_path\u001b[49m\u001b[43m,\u001b[49m\u001b[43m \u001b[49m\u001b[43m*\u001b[49m\u001b[43m*\u001b[49m\u001b[43mkwargs\u001b[49m\u001b[43m)\u001b[49m\n\u001b[32m    483\u001b[39m     \u001b[38;5;28;01melse\u001b[39;00m:\n\u001b[32m    484\u001b[39m         \u001b[38;5;28;01mreturn\u001b[39;00m \u001b[38;5;28mself\u001b[39m._export_htp(model, example_inputs, output_path, **kwargs)\n",
      "\u001b[36mFile \u001b[39m\u001b[32m/mnt/d/BYOM/modelexport/modelexport/strategies/htp/htp_hierarchy_exporter.py:521\u001b[39m, in \u001b[36mHierarchyExporter._export_htp_builtin_tracking\u001b[39m\u001b[34m(self, model, example_inputs, output_path, **kwargs)\u001b[39m\n\u001b[32m    518\u001b[39m onnx_model = onnx.load(output_path)\n\u001b[32m    520\u001b[39m \u001b[38;5;66;03m# Step 6: Use PyTorch's module tracking for direct node-to-module mapping\u001b[39;00m\n\u001b[32m--> \u001b[39m\u001b[32m521\u001b[39m hierarchy_metadata = \u001b[38;5;28;43mself\u001b[39;49m\u001b[43m.\u001b[49m\u001b[43m_create_direct_hierarchy_metadata_builtin\u001b[49m\u001b[43m(\u001b[49m\u001b[43monnx_model\u001b[49m\u001b[43m,\u001b[49m\u001b[43m \u001b[49m\u001b[43mmodel\u001b[49m\u001b[43m)\u001b[49m\n\u001b[32m    523\u001b[39m \u001b[38;5;66;03m# Step 7: Analyze model and ensure 100% coverage with auxiliary operations tagging\u001b[39;00m\n\u001b[32m    524\u001b[39m model_analysis = ModelSizeAnalyzer.analyze_onnx_model(onnx_model)\n",
      "\u001b[36mFile \u001b[39m\u001b[32m/mnt/d/BYOM/modelexport/modelexport/strategies/htp/htp_hierarchy_exporter.py:3327\u001b[39m, in \u001b[36mHierarchyExporter._create_direct_hierarchy_metadata_builtin\u001b[39m\u001b[34m(self, onnx_model, model)\u001b[39m\n\u001b[32m   3324\u001b[39m tag_mapping = {}\n\u001b[32m   3326\u001b[39m \u001b[38;5;66;03m# Project operation trace to ONNX nodes (reuse existing logic)\u001b[39;00m\n\u001b[32m-> \u001b[39m\u001b[32m3327\u001b[39m \u001b[38;5;28;43mself\u001b[39;49m\u001b[43m.\u001b[49m\u001b[43m_project_execution_trace_to_onnx\u001b[49m\u001b[43m(\u001b[49m\u001b[43monnx_model\u001b[49m\u001b[43m)\u001b[49m\n\u001b[32m   3329\u001b[39m \u001b[38;5;66;03m# Use existing tag mapping logic \u001b[39;00m\n\u001b[32m   3330\u001b[39m tag_mapping = \u001b[38;5;28mself\u001b[39m._tag_mapping.copy()\n",
      "\u001b[36mFile \u001b[39m\u001b[32m/mnt/d/BYOM/modelexport/modelexport/strategies/htp/htp_hierarchy_exporter.py:2336\u001b[39m, in \u001b[36mHierarchyExporter._project_execution_trace_to_onnx\u001b[39m\u001b[34m(self, onnx_model)\u001b[39m\n\u001b[32m   2333\u001b[39m                     trace_idx += \u001b[32m1\u001b[39m\n\u001b[32m   2335\u001b[39m \u001b[38;5;66;03m# Tag slice operations based on tracked slice contexts\u001b[39;00m\n\u001b[32m-> \u001b[39m\u001b[32m2336\u001b[39m \u001b[38;5;28;43mself\u001b[39;49m\u001b[43m.\u001b[49m\u001b[43m_tag_slice_operations\u001b[49m\u001b[43m(\u001b[49m\u001b[43monnx_model\u001b[49m\u001b[43m,\u001b[49m\u001b[43m \u001b[49m\u001b[43monnx_nodes_by_type\u001b[49m\u001b[43m)\u001b[49m\n\u001b[32m   2338\u001b[39m \u001b[38;5;66;03m# Universal path-based tagging for all remaining operations\u001b[39;00m\n\u001b[32m   2339\u001b[39m \u001b[38;5;28mself\u001b[39m._tag_operations_by_path_inference(onnx_model)\n",
      "\u001b[36mFile \u001b[39m\u001b[32m/mnt/d/BYOM/modelexport/modelexport/strategies/htp/htp_hierarchy_exporter.py:2067\u001b[39m, in \u001b[36mHierarchyExporter._tag_slice_operations\u001b[39m\u001b[34m(self, onnx_model, onnx_nodes_by_type)\u001b[39m\n\u001b[32m   2065\u001b[39m best_slice_op = \u001b[38;5;28mself\u001b[39m._find_matching_slice_operation(node_name, node)\n\u001b[32m   2066\u001b[39m \u001b[38;5;28;01mif\u001b[39;00m best_slice_op:\n\u001b[32m-> \u001b[39m\u001b[32m2067\u001b[39m     context = \u001b[43mbest_slice_op\u001b[49m\u001b[43m[\u001b[49m\u001b[33;43m'\u001b[39;49m\u001b[33;43mcontext\u001b[39;49m\u001b[33;43m'\u001b[39;49m\u001b[43m]\u001b[49m\n\u001b[32m   2069\u001b[39m     \u001b[38;5;66;03m# Apply context correction if needed\u001b[39;00m\n\u001b[32m   2070\u001b[39m     corrected_context = \u001b[38;5;28mself\u001b[39m._correct_slice_context(node_name, context)\n",
      "\u001b[31mKeyError\u001b[39m: 'context'"
     ]
    }
   ],
   "source": [
    "# Create exporter\n",
    "exporter = HierarchyExporter(strategy='htp')\n",
    "\n",
    "# Create output directory\n",
    "output_dir = Path(\"./output/working_demo\")\n",
    "output_dir.mkdir(parents=True, exist_ok=True)\n",
    "\n",
    "# Export\n",
    "output_path = str(output_dir / \"bert_tiny_htp.onnx\")\n",
    "\n",
    "export_result = exporter.export(\n",
    "    model=model,\n",
    "    example_inputs=(input_ids, attention_mask),\n",
    "    output_path=output_path,\n",
    "    input_names=['input_ids', 'attention_mask'],\n",
    "    output_names=['last_hidden_state'],\n",
    "    dynamic_axes={\n",
    "        'input_ids': {0: 'batch_size', 1: 'sequence'},\n",
    "        'attention_mask': {0: 'batch_size', 1: 'sequence'},\n",
    "        'last_hidden_state': {0: 'batch_size', 1: 'sequence'}\n",
    "    },\n",
    "    opset_version=17\n",
    ")\n",
    "\n",
    "print(f\"Export completed!\")\n",
    "print(f\"Output: {output_path}\")\n",
    "print(f\"Tagged operations: {export_result['tagged_operations']}\")"
   ]
  },
  {
   "cell_type": "markdown",
   "metadata": {},
   "source": [
    "## Step 3: Analyze the Tag Mapping"
   ]
  },
  {
   "cell_type": "code",
   "execution_count": null,
   "metadata": {},
   "outputs": [],
   "source": [
    "# Get tag mapping\n",
    "tag_mapping = exporter.get_tag_mapping()\n",
    "\n",
    "# Count tags by hierarchy level\n",
    "tag_distribution = {}\n",
    "for op_name, op_data in tag_mapping.items():\n",
    "    tags = op_data.get('tags', [])\n",
    "    if tags:\n",
    "        tag = tags[0]  # Primary tag\n",
    "        tag_parts = tag.split('/')\n",
    "        if len(tag_parts) > 1:\n",
    "            module_type = tag_parts[1]\n",
    "            tag_distribution[module_type] = tag_distribution.get(module_type, 0) + 1\n",
    "\n",
    "print(f\"Total operations: {len(tag_mapping)}\")\n",
    "print(f\"\\nTag distribution:\")\n",
    "for module, count in sorted(tag_distribution.items()):\n",
    "    print(f\"  {module}: {count} operations\")"
   ]
  },
  {
   "cell_type": "markdown",
   "metadata": {},
   "source": [
    "## Step 4: Verify Module Hierarchy"
   ]
  },
  {
   "cell_type": "code",
   "execution_count": null,
   "metadata": {},
   "outputs": [],
   "source": [
    "# Extract unique hierarchy tags\n",
    "unique_tags = set()\n",
    "for op_data in tag_mapping.values():\n",
    "    for tag in op_data.get('tags', []):\n",
    "        unique_tags.add(tag)\n",
    "\n",
    "# Sort and display\n",
    "sorted_tags = sorted(unique_tags)\n",
    "print(f\"Unique hierarchy tags ({len(sorted_tags)}):\")\n",
    "for tag in sorted_tags[:20]:  # Show first 20\n",
    "    print(f\"  {tag}\")\n",
    "if len(sorted_tags) > 20:\n",
    "    print(f\"  ... and {len(sorted_tags) - 20} more\")"
   ]
  },
  {
   "cell_type": "markdown",
   "metadata": {},
   "source": [
    "## Summary\n",
    "\n",
    "The HTP exporter successfully exports BERT-tiny with hierarchy tags. This implementation:\n",
    "- Uses forward hooks but in a more controlled manner\n",
    "- Has been tested extensively and is known to work\n",
    "- Provides operation-level tagging during export"
   ]
  }
 ],
 "metadata": {
  "kernelspec": {
   "display_name": "Python 3 (ipykernel)",
   "language": "python",
   "name": "python3"
  },
  "language_info": {
   "codemirror_mode": {
    "name": "ipython",
    "version": 3
   },
   "file_extension": ".py",
   "mimetype": "text/x-python",
   "name": "python",
   "nbconvert_exporter": "python",
   "pygments_lexer": "ipython3",
   "version": "3.12.11"
  }
 },
 "nbformat": 4,
 "nbformat_minor": 4
}
