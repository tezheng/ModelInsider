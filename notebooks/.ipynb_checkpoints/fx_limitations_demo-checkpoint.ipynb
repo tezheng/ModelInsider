{
 "cells": [
  {
   "cell_type": "markdown",
   "metadata": {},
   "source": [
    "# FX Limitations Demo: HuggingFace ResNet vs Pure ResNet\n",
    "\n",
    "This notebook demonstrates why HuggingFace ResNet fails with FX symbolic tracing while pure ResNet works perfectly.\n",
    "\n",
    "## The Issue\n",
    "HuggingFace ResNet includes input validation that compares tensor shapes at runtime, which breaks FX symbolic tracing."
   ]
  },
  {
   "cell_type": "code",
   "execution_count": null,
   "metadata": {},
   "outputs": [],
   "source": [
    "import torch\n",
    "import torch.nn as nn\n",
    "import torch.fx\n",
    "from transformers import ResNetForImageClassification\n",
    "import traceback"
   ]
  },
  {
   "cell_type": "markdown",
   "metadata": {},
   "source": [
    "## 1. Pure ResNet Implementation (FX Compatible)"
   ]
  },
  {
   "cell_type": "code",
   "execution_count": null,
   "metadata": {},
   "outputs": [],
   "source": [
    "class SimpleResNet(nn.Module):\n",
    "    \"\"\"Pure ResNet implementation without input validation - FX compatible\"\"\"\n",
    "    def __init__(self):\n",
    "        super().__init__()\n",
    "        self.conv1 = nn.Conv2d(3, 64, 7, stride=2, padding=3, bias=False)\n",
    "        self.bn1 = nn.BatchNorm2d(64)\n",
    "        self.relu = nn.ReLU()\n",
    "        self.maxpool = nn.MaxPool2d(3, stride=2, padding=1)\n",
    "        \n",
    "        # Simple residual block\n",
    "        self.conv2 = nn.Conv2d(64, 64, 3, padding=1, bias=False)\n",
    "        self.bn2 = nn.BatchNorm2d(64)\n",
    "        self.conv3 = nn.Conv2d(64, 64, 3, padding=1, bias=False)\n",
    "        self.bn3 = nn.BatchNorm2d(64)\n",
    "        \n",
    "        self.avgpool = nn.AdaptiveAvgPool2d((1, 1))\n",
    "        self.fc = nn.Linear(64, 1000)\n",
    "        \n",
    "    def forward(self, x):\n",
    "        # Initial layers\n",
    "        x = self.conv1(x)\n",
    "        x = self.bn1(x)\n",
    "        x = self.relu(x)\n",
    "        x = self.maxpool(x)\n",
    "        \n",
    "        # Residual block - NO tensor shape validation!\n",
    "        identity = x\n",
    "        out = self.conv2(x)\n",
    "        out = self.bn2(out)\n",
    "        out = self.relu(out)\n",
    "        out = self.conv3(out)\n",
    "        out = self.bn3(out)\n",
    "        out += identity  # This is fine - just tensor addition\n",
    "        out = self.relu(out)\n",
    "        \n",
    "        # Classification\n",
    "        out = self.avgpool(out)\n",
    "        out = out.flatten(1)\n",
    "        return self.fc(out)\n",
    "\n",
    "# Test pure ResNet with FX\n",
    "print(\"=== Testing Pure ResNet with FX ===\")\n",
    "simple_resnet = SimpleResNet()\n",
    "dummy_input = torch.randn(1, 3, 224, 224)\n",
    "\n",
    "try:\n",
    "    fx_graph = torch.fx.symbolic_trace(simple_resnet)\n",
    "    print(\"✅ Pure ResNet: FX tracing SUCCESSFUL!\")\n",
    "    print(f\"   FX graph nodes: {len(list(fx_graph.graph.nodes))}\")\n",
    "    \n",
    "    # Test execution\n",
    "    output = fx_graph(dummy_input)\n",
    "    print(f\"   Output shape: {output.shape}\")\n",
    "    \n",
    "except Exception as e:\n",
    "    print(f\"❌ Pure ResNet FX failed: {e}\")\n",
    "    traceback.print_exc()"
   ]
  },
  {
   "cell_type": "markdown",
   "metadata": {},
   "source": [
    "## 2. HuggingFace ResNet (FX Incompatible)"
   ]
  },
  {
   "cell_type": "code",
   "execution_count": null,
   "metadata": {},
   "outputs": [],
   "source": [
    "# Load HuggingFace ResNet\n",
    "print(\"=== Testing HuggingFace ResNet with FX ===\")\n",
    "hf_resnet = ResNetForImageClassification.from_pretrained('microsoft/resnet-50')\n",
    "\n",
    "try:\n",
    "    fx_graph = torch.fx.symbolic_trace(hf_resnet)\n",
    "    print(\"✅ HuggingFace ResNet: FX tracing successful!\")\n",
    "    \n",
    "except Exception as e:\n",
    "    print(f\"❌ HuggingFace ResNet FX failed: {e}\")\n",
    "    print(\"\\n📍 The problematic line is in ResNetEmbeddings.forward():\")\n",
    "    print(\"   num_channels = pixel_values.shape[1]\")\n",
    "    print(\"   if num_channels != self.num_channels:  # <-- This breaks FX!\")"
   ]
  },
  {
   "cell_type": "markdown",
   "metadata": {},
   "source": [
    "## 3. Let's Look at the Exact Problematic Code"
   ]
  },
  {
   "cell_type": "code",
   "execution_count": null,
   "metadata": {},
   "outputs": [],
   "source": [
    "import inspect\n",
    "from transformers.models.resnet.modeling_resnet import ResNetEmbeddings\n",
    "\n",
    "print(\"=== HuggingFace ResNetEmbeddings.forward() Source ===\")\n",
    "source = inspect.getsource(ResNetEmbeddings.forward)\n",
    "lines = source.split('\\n')\n",
    "\n",
    "for i, line in enumerate(lines, 1):\n",
    "    if 'if num_channels !=' in line:\n",
    "        print(f\"🚨 {i:2}: {line}  <-- PROBLEMATIC LINE!\")\n",
    "    elif 'num_channels = pixel_values.shape[1]' in line:\n",
    "        print(f\"⚠️  {i:2}: {line}  <-- Creates Proxy object\")\n",
    "    else:\n",
    "        print(f\"   {i:2}: {line}\")"
   ]
  },
  {
   "cell_type": "markdown",
   "metadata": {},
   "source": [
    "## 4. Testing with `dynamic=True` in ONNX Export\n",
    "\n",
    "Let's see if ONNX export with `dynamic_axes` helps with the tensor shape issue."
   ]
  },
  {
   "cell_type": "code",
   "execution_count": null,
   "metadata": {},
   "outputs": [],
   "source": [
    "import tempfile\n",
    "import os\n",
    "\n",
    "print(\"=== Testing ONNX Export with dynamic=True ===\")\n",
    "\n",
    "# Test 1: Pure ResNet with ONNX dynamic export\n",
    "print(\"\\n1. Pure ResNet + ONNX dynamic export:\")\n",
    "try:\n",
    "    with tempfile.NamedTemporaryFile(suffix='.onnx', delete=False) as tmp:\n",
    "        torch.onnx.export(\n",
    "            simple_resnet,\n",
    "            dummy_input,\n",
    "            tmp.name,\n",
    "            dynamic_axes={\n",
    "                'input': {0: 'batch_size', 2: 'height', 3: 'width'},\n",
    "                'output': {0: 'batch_size'}\n",
    "            },\n",
    "            input_names=['input'],\n",
    "            output_names=['output']\n",
    "        )\n",
    "        print(\"✅ Pure ResNet ONNX export with dynamic=True: SUCCESS\")\n",
    "        os.unlink(tmp.name)\n",
    "except Exception as e:\n",
    "    print(f\"❌ Pure ResNet ONNX export failed: {e}\")\n",
    "\n",
    "# Test 2: HuggingFace ResNet with ONNX dynamic export\n",
    "print(\"\\n2. HuggingFace ResNet + ONNX dynamic export:\")\n",
    "try:\n",
    "    with tempfile.NamedTemporaryFile(suffix='.onnx', delete=False) as tmp:\n",
    "        torch.onnx.export(\n",
    "            hf_resnet,\n",
    "            dummy_input,\n",
    "            tmp.name,\n",
    "            dynamic_axes={\n",
    "                'pixel_values': {0: 'batch_size', 2: 'height', 3: 'width'},\n",
    "                'logits': {0: 'batch_size'}\n",
    "            },\n",
    "            input_names=['pixel_values'],\n",
    "            output_names=['logits']\n",
    "        )\n",
    "        print(\"✅ HuggingFace ResNet ONNX export with dynamic=True: SUCCESS\")\n",
    "        print(\"   Note: ONNX export works because it uses actual tensor values, not symbolic tracing\")\n",
    "        os.unlink(tmp.name)\n",
    "except Exception as e:\n",
    "    print(f\"❌ HuggingFace ResNet ONNX export failed: {e}\")"
   ]
  },
  {
   "cell_type": "markdown",
   "metadata": {},
   "source": [
    "## 5. Why FX Fails but ONNX Export Works"
   ]
  },
  {
   "cell_type": "code",
   "execution_count": null,
   "metadata": {},
   "outputs": [],
   "source": [
    "print(\"=== Understanding the Difference ===\")\n",
    "print()\n",
    "print(\"🔍 FX Symbolic Tracing:\")\n",
    "print(\"   • Creates symbolic 'Proxy' objects instead of real tensors\")\n",
    "print(\"   • pixel_values.shape[1] returns a Proxy, not an int\")\n",
    "print(\"   • Proxy != int comparison cannot be resolved at trace time\")\n",
    "print(\"   • Result: 'symbolically traced variables cannot be used as inputs to control flow'\")\n",
    "print()\n",
    "print(\"✅ ONNX Export:\")\n",
    "print(\"   • Uses actual tensor values during export\")\n",
    "print(\"   • pixel_values.shape[1] returns actual int (e.g., 3)\")\n",
    "print(\"   • 3 != 3 resolves to False, validation passes\")\n",
    "print(\"   • Result: Export succeeds\")\n",
    "print()\n",
    "print(\"💡 Key Insight:\")\n",
    "print(\"   FX fails during SYMBOLIC tracing (before running)\")\n",
    "print(\"   ONNX works during ACTUAL execution (with real tensors)\")\n",
    "print(\"   dynamic=True doesn't help FX because the issue is at trace time, not runtime\")"
   ]
  },
  {
   "cell_type": "markdown",
   "metadata": {},
   "source": [
    "## 6. Demonstrating the Proxy Issue"
   ]
  },
  {
   "cell_type": "code",
   "execution_count": null,
   "metadata": {},
   "outputs": [],
   "source": [
    "print(\"=== Demonstrating Proxy vs Real Tensor ===\")\n",
    "\n",
    "# Create a minimal example that shows the proxy issue\n",
    "class ProxyDemoModel(nn.Module):\n",
    "    def __init__(self):\n",
    "        super().__init__()\n",
    "        self.expected_channels = 3\n",
    "        \n",
    "    def forward(self, x):\n",
    "        print(f\"During execution - x.shape[1]: {x.shape[1]} (type: {type(x.shape[1])})\")\n",
    "        if x.shape[1] != self.expected_channels:\n",
    "            raise ValueError(f\"Expected {self.expected_channels} channels, got {x.shape[1]}\")\n",
    "        return x.sum()\n",
    "\n",
    "demo_model = ProxyDemoModel()\n",
    "demo_input = torch.randn(1, 3, 32, 32)\n",
    "\n",
    "print(\"\\n1. Normal execution:\")\n",
    "result = demo_model(demo_input)\n",
    "print(f\"   Result: {result.item():.2f}\")\n",
    "\n",
    "print(\"\\n2. FX symbolic tracing:\")\n",
    "try:\n",
    "    traced = torch.fx.symbolic_trace(demo_model)\n",
    "    print(\"   ✅ FX tracing succeeded (unexpected!)\")\n",
    "except Exception as e:\n",
    "    print(f\"   ❌ FX tracing failed: {e}\")\n",
    "    print(\"   📍 This is the same error HuggingFace ResNet encounters\")"
   ]
  },
  {
   "cell_type": "markdown",
   "metadata": {},
   "source": [
    "## 7. Solutions and Workarounds"
   ]
  },
  {
   "cell_type": "code",
   "execution_count": null,
   "metadata": {},
   "outputs": [],
   "source": [
    "print(\"=== Solutions for HuggingFace Models ===\")\n",
    "print()\n",
    "print(\"❌ dynamic=True does NOT help with FX because:\")\n",
    "print(\"   • FX fails at trace time (symbolic), not runtime\")\n",
    "print(\"   • dynamic=True is for ONNX export flexibility, not FX tracing\")\n",
    "print()\n",
    "print(\"✅ Working solutions:\")\n",
    "print(\"   1. Use HTP strategy for HuggingFace models (as implemented)\")\n",
    "print(\"   2. Use pure PyTorch ResNet implementations for FX\")\n",
    "print(\"   3. Patch HuggingFace models to remove input validation\")\n",
    "print(\"   4. Use hybrid approach: auto-detect and fallback\")\n",
    "print()\n",
    "print(\"🎯 Our Implementation Strategy:\")\n",
    "print(\"   • FX for pure PyTorch models (96.4% coverage on ProductionResNet)\")\n",
    "print(\"   • HTP for HuggingFace transformers models\")\n",
    "print(\"   • Automatic architecture detection and strategy selection\")"
   ]
  },
  {
   "cell_type": "markdown",
   "metadata": {},
   "source": [
    "## Conclusion\n",
    "\n",
    "**Key Findings:**\n",
    "\n",
    "1. **Pure ResNet works perfectly with FX** (96.4% coverage achieved)\n",
    "2. **HuggingFace ResNet fails due to input validation** that compares tensor shapes\n",
    "3. **`dynamic=True` does NOT help** because the issue is at symbolic trace time, not runtime\n",
    "4. **ONNX export still works** because it uses real tensors, not symbolic proxies\n",
    "5. **The solution is strategy selection**: FX for pure PyTorch, HTP for HuggingFace models\n",
    "\n",
    "This demonstrates why our hybrid approach is valuable - it automatically detects model compatibility and chooses the appropriate strategy."
   ]
  }
 ],
 "metadata": {
  "kernelspec": {
   "display_name": "Python 3",
   "language": "python",
   "name": "python3"
  },
  "language_info": {
   "codemirror_mode": {
    "name": "ipython",
    "version": 3
   },
   "file_extension": ".py",
   "mimetype": "text/x-python",
   "name": "python",
   "nbconvert_exporter": "python",
   "pygments_lexer": "ipython3",
   "version": "3.12.0"
  }
 },
 "nbformat": 4,
 "nbformat_minor": 4
}