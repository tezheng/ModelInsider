{
 "cells": [
  {
   "cell_type": "code",
   "execution_count": null,
   "id": "72252450-1f97-4a49-a60c-28230c8f7045",
   "metadata": {},
   "outputs": [],
   "source": [
    "from transformers import AutoModel\n",
    "model = AutoModel.from_pretrained(\"prajjwal1/bert-tiny\")\n",
    "model"
   ]
  },
  {
   "cell_type": "code",
   "execution_count": null,
   "id": "6c9a2871-2e4f-4276-9642-0d64e426cd06",
   "metadata": {},
   "outputs": [],
   "source": [
    "from transformers import BertModel\n",
    "bert = BertModel()"
   ]
  },
  {
   "cell_type": "code",
   "execution_count": null,
   "id": "bab6c09e-2279-4d98-abc0-6058e444e0b2",
   "metadata": {},
   "outputs": [],
   "source": []
  }
 ],
 "metadata": {
  "kernelspec": {
   "display_name": "Python 3 (ipykernel)",
   "language": "python",
   "name": "python3"
  },
  "language_info": {
   "codemirror_mode": {
    "name": "ipython",
    "version": 3
   },
   "file_extension": ".py",
   "mimetype": "text/x-python",
   "name": "python",
   "nbconvert_exporter": "python",
   "pygments_lexer": "ipython3",
   "version": "3.12.11"
  }
 },
 "nbformat": 4,
 "nbformat_minor": 5
}
