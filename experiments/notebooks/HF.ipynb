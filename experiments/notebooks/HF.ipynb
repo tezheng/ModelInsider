{
 "cells": [
  {
   "cell_type": "code",
   "execution_count": 1,
   "id": "72252450-1f97-4a49-a60c-28230c8f7045",
   "metadata": {},
   "outputs": [
    {
     "data": {
      "text/plain": [
       "BertModel(\n",
       "  (embeddings): BertEmbeddings(\n",
       "    (word_embeddings): Embedding(30522, 128, padding_idx=0)\n",
       "    (position_embeddings): Embedding(512, 128)\n",
       "    (token_type_embeddings): Embedding(2, 128)\n",
       "    (LayerNorm): LayerNorm((128,), eps=1e-12, elementwise_affine=True)\n",
       "    (dropout): Dropout(p=0.1, inplace=False)\n",
       "  )\n",
       "  (encoder): BertEncoder(\n",
       "    (layer): ModuleList(\n",
       "      (0-1): 2 x BertLayer(\n",
       "        (attention): BertAttention(\n",
       "          (self): BertSdpaSelfAttention(\n",
       "            (query): Linear(in_features=128, out_features=128, bias=True)\n",
       "            (key): Linear(in_features=128, out_features=128, bias=True)\n",
       "            (value): Linear(in_features=128, out_features=128, bias=True)\n",
       "            (dropout): Dropout(p=0.1, inplace=False)\n",
       "          )\n",
       "          (output): BertSelfOutput(\n",
       "            (dense): Linear(in_features=128, out_features=128, bias=True)\n",
       "            (LayerNorm): LayerNorm((128,), eps=1e-12, elementwise_affine=True)\n",
       "            (dropout): Dropout(p=0.1, inplace=False)\n",
       "          )\n",
       "        )\n",
       "        (intermediate): BertIntermediate(\n",
       "          (dense): Linear(in_features=128, out_features=512, bias=True)\n",
       "          (intermediate_act_fn): GELUActivation()\n",
       "        )\n",
       "        (output): BertOutput(\n",
       "          (dense): Linear(in_features=512, out_features=128, bias=True)\n",
       "          (LayerNorm): LayerNorm((128,), eps=1e-12, elementwise_affine=True)\n",
       "          (dropout): Dropout(p=0.1, inplace=False)\n",
       "        )\n",
       "      )\n",
       "    )\n",
       "  )\n",
       "  (pooler): BertPooler(\n",
       "    (dense): Linear(in_features=128, out_features=128, bias=True)\n",
       "    (activation): Tanh()\n",
       "  )\n",
       ")"
      ]
     },
     "execution_count": 1,
     "metadata": {},
     "output_type": "execute_result"
    }
   ],
   "source": [
    "from transformers import AutoModel\n",
    "model = AutoModel.from_pretrained(\"prajjwal1/bert-tiny\")\n",
    "model"
   ]
  },
  {
   "cell_type": "code",
   "execution_count": 24,
   "id": "6c9a2871-2e4f-4276-9642-0d64e426cd06",
   "metadata": {},
   "outputs": [],
   "source": [
    "from transformers import AutoConfig, BertModel\n",
    "config = AutoConfig.from_pretrained(\"prajjwal1/bert-tiny\")\n",
    "bert = BertModel(config)\n",
    "bert_modules = [s for s in bert.named_modules()]"
   ]
  },
  {
   "cell_type": "code",
   "execution_count": 27,
   "id": "92935a8b-b5e2-41b5-8e86-4630a8926493",
   "metadata": {},
   "outputs": [
    {
     "data": {
      "text/plain": [
       "[['', transformers.models.bert.modeling_bert.BertModel],\n",
       " ['embeddings', transformers.models.bert.modeling_bert.BertEmbeddings],\n",
       " ['embeddings.word_embeddings', torch.nn.modules.sparse.Embedding],\n",
       " ['embeddings.position_embeddings', torch.nn.modules.sparse.Embedding],\n",
       " ['embeddings.token_type_embeddings', torch.nn.modules.sparse.Embedding],\n",
       " ['embeddings.LayerNorm', torch.nn.modules.normalization.LayerNorm],\n",
       " ['embeddings.dropout', torch.nn.modules.dropout.Dropout],\n",
       " ['encoder', transformers.models.bert.modeling_bert.BertEncoder],\n",
       " ['encoder.layer', torch.nn.modules.container.ModuleList],\n",
       " ['encoder.layer.0', transformers.models.bert.modeling_bert.BertLayer],\n",
       " ['encoder.layer.0.attention',\n",
       "  transformers.models.bert.modeling_bert.BertAttention],\n",
       " ['encoder.layer.0.attention.self',\n",
       "  transformers.models.bert.modeling_bert.BertSdpaSelfAttention],\n",
       " ['encoder.layer.0.attention.self.query', torch.nn.modules.linear.Linear],\n",
       " ['encoder.layer.0.attention.self.key', torch.nn.modules.linear.Linear],\n",
       " ['encoder.layer.0.attention.self.value', torch.nn.modules.linear.Linear],\n",
       " ['encoder.layer.0.attention.self.dropout', torch.nn.modules.dropout.Dropout],\n",
       " ['encoder.layer.0.attention.output',\n",
       "  transformers.models.bert.modeling_bert.BertSelfOutput],\n",
       " ['encoder.layer.0.attention.output.dense', torch.nn.modules.linear.Linear],\n",
       " ['encoder.layer.0.attention.output.LayerNorm',\n",
       "  torch.nn.modules.normalization.LayerNorm],\n",
       " ['encoder.layer.0.attention.output.dropout',\n",
       "  torch.nn.modules.dropout.Dropout],\n",
       " ['encoder.layer.0.intermediate',\n",
       "  transformers.models.bert.modeling_bert.BertIntermediate],\n",
       " ['encoder.layer.0.intermediate.dense', torch.nn.modules.linear.Linear],\n",
       " ['encoder.layer.0.intermediate.intermediate_act_fn',\n",
       "  transformers.activations.GELUActivation],\n",
       " ['encoder.layer.0.output', transformers.models.bert.modeling_bert.BertOutput],\n",
       " ['encoder.layer.0.output.dense', torch.nn.modules.linear.Linear],\n",
       " ['encoder.layer.0.output.LayerNorm',\n",
       "  torch.nn.modules.normalization.LayerNorm],\n",
       " ['encoder.layer.0.output.dropout', torch.nn.modules.dropout.Dropout],\n",
       " ['encoder.layer.1', transformers.models.bert.modeling_bert.BertLayer],\n",
       " ['encoder.layer.1.attention',\n",
       "  transformers.models.bert.modeling_bert.BertAttention],\n",
       " ['encoder.layer.1.attention.self',\n",
       "  transformers.models.bert.modeling_bert.BertSdpaSelfAttention],\n",
       " ['encoder.layer.1.attention.self.query', torch.nn.modules.linear.Linear],\n",
       " ['encoder.layer.1.attention.self.key', torch.nn.modules.linear.Linear],\n",
       " ['encoder.layer.1.attention.self.value', torch.nn.modules.linear.Linear],\n",
       " ['encoder.layer.1.attention.self.dropout', torch.nn.modules.dropout.Dropout],\n",
       " ['encoder.layer.1.attention.output',\n",
       "  transformers.models.bert.modeling_bert.BertSelfOutput],\n",
       " ['encoder.layer.1.attention.output.dense', torch.nn.modules.linear.Linear],\n",
       " ['encoder.layer.1.attention.output.LayerNorm',\n",
       "  torch.nn.modules.normalization.LayerNorm],\n",
       " ['encoder.layer.1.attention.output.dropout',\n",
       "  torch.nn.modules.dropout.Dropout],\n",
       " ['encoder.layer.1.intermediate',\n",
       "  transformers.models.bert.modeling_bert.BertIntermediate],\n",
       " ['encoder.layer.1.intermediate.dense', torch.nn.modules.linear.Linear],\n",
       " ['encoder.layer.1.intermediate.intermediate_act_fn',\n",
       "  transformers.activations.GELUActivation],\n",
       " ['encoder.layer.1.output', transformers.models.bert.modeling_bert.BertOutput],\n",
       " ['encoder.layer.1.output.dense', torch.nn.modules.linear.Linear],\n",
       " ['encoder.layer.1.output.LayerNorm',\n",
       "  torch.nn.modules.normalization.LayerNorm],\n",
       " ['encoder.layer.1.output.dropout', torch.nn.modules.dropout.Dropout],\n",
       " ['pooler', transformers.models.bert.modeling_bert.BertPooler],\n",
       " ['pooler.dense', torch.nn.modules.linear.Linear],\n",
       " ['pooler.activation', torch.nn.modules.activation.Tanh]]"
      ]
     },
     "execution_count": 27,
     "metadata": {},
     "output_type": "execute_result"
    }
   ],
   "source": [
    "[[i[0], type(i[1])] for i in bert_modules]"
   ]
  }
 ],
 "metadata": {
  "kernelspec": {
   "display_name": "Python 3 (ipykernel)",
   "language": "python",
   "name": "python3"
  },
  "language_info": {
   "codemirror_mode": {
    "name": "ipython",
    "version": 3
   },
   "file_extension": ".py",
   "mimetype": "text/x-python",
   "name": "python",
   "nbconvert_exporter": "python",
   "pygments_lexer": "ipython3",
   "version": "3.12.11"
  }
 },
 "nbformat": 4,
 "nbformat_minor": 5
}
