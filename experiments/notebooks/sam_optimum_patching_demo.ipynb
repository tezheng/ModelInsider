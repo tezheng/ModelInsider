{
 "cells": [
  {
   "cell_type": "markdown",
   "metadata": {},
   "source": [
    "# SAM Model Optimum Patching Demonstration\n",
    "\n",
    "This notebook demonstrates different methods to patch Optimum for semantic SAM coordinate generation.\n",
    "\n",
    "## Problem\n",
    "- SAM models need semantic pixel coordinates like `(512, 384)`\n",
    "- Optimum generates random decimals like `(0.512, 0.384)`\n",
    "- Export fails due to meaningless coordinate inputs\n",
    "\n",
    "## Solutions Compared\n",
    "1. **Injection Method** (Recommended)\n",
    "2. **Monkey Patching Method** (Not recommended)\n",
    "3. **Before/After Comparison**"
   ]
  },
  {
   "cell_type": "code",
   "execution_count": 1,
   "metadata": {},
   "outputs": [],
   "source": [
    "import torch\n",
    "from optimum.utils.input_generators import DummyPointsGenerator\n",
    "from optimum.exporters.tasks import TasksManager\n",
    "from transformers import AutoConfig\n",
    "\n",
    "# Test model (small SAM for faster demo)\n",
    "MODEL_NAME = \"facebook/sam-vit-base\""
   ]
  },
  {
   "cell_type": "markdown",
   "metadata": {},
   "source": [
    "## Step 1: Show the Problem"
   ]
  },
  {
   "cell_type": "code",
   "execution_count": 2,
   "metadata": {},
   "outputs": [
    {
     "name": "stdout",
     "output_type": "stream",
     "text": [
      "🔍 Original Problem: Meaningless Coordinates\n",
      "==================================================\n",
      "Input shape: torch.Size([2, 3, 2, 2])\n",
      "Coordinate range: [0.024, 0.997]\n",
      "Sample coordinates: [0.06289267539978027, 0.11677002906799316]\n",
      "❌ Problem: These are meaningless decimals for SAM!\n"
     ]
    }
   ],
   "source": [
    "def show_original_problem():\n",
    "    \"\"\"Demonstrate the original coordinate generation problem\"\"\"\n",
    "    print(\"🔍 Original Problem: Meaningless Coordinates\")\n",
    "    print(\"=\" * 50)\n",
    "    \n",
    "    # Get SAM config\n",
    "    config = AutoConfig.from_pretrained(MODEL_NAME)\n",
    "    model_type = config.model_type\n",
    "    \n",
    "    # Get export config\n",
    "    constructor = TasksManager.get_exporter_config_constructor(\n",
    "        exporter=\"onnx\",\n",
    "        model_type=model_type,\n",
    "        task=\"feature-extraction\",\n",
    "        library_name=\"transformers\"\n",
    "    )\n",
    "    export_config = constructor(config)\n",
    "    \n",
    "    # Generate original (problematic) inputs\n",
    "    original_inputs = export_config.generate_dummy_inputs(framework=\"pt\")\n",
    "    \n",
    "    if \"input_points\" in original_inputs:\n",
    "        coords = original_inputs[\"input_points\"]\n",
    "        print(f\"Input shape: {coords.shape}\")\n",
    "        print(f\"Coordinate range: [{coords.min():.3f}, {coords.max():.3f}]\")\n",
    "        print(f\"Sample coordinates: {coords[0, 0, 0].tolist()}\")\n",
    "        print(f\"❌ Problem: These are meaningless decimals for SAM!\")\n",
    "    \n",
    "    return export_config, original_inputs\n",
    "\n",
    "original_config, original_inputs = show_original_problem()"
   ]
  },
  {
   "cell_type": "markdown",
   "metadata": {},
   "source": [
    "## Step 2: Method 1 - Injection (Recommended)"
   ]
  },
  {
   "cell_type": "code",
   "execution_count": 3,
   "metadata": {},
   "outputs": [
    {
     "name": "stdout",
     "output_type": "stream",
     "text": [
      "\n",
      "✅ Method 1: Injection (Recommended)\n",
      "==================================================\n",
      "Original classes: ['DummyVisionInputGenerator', 'DummyPointsGenerator', 'DummyVisionEmbeddingsGenerator']\n",
      "Injected classes: ['DummyVisionInputGenerator', 'SemanticDummyPointsGenerator', 'DummyVisionEmbeddingsGenerator']\n",
      "\n",
      "Fixed coordinates:\n",
      "  Shape: torch.Size([2, 3, 2, 2])\n",
      "  Range: [45.4, 986.5]\n",
      "  Sample: [157.7320556640625, 652.8472290039062]\n",
      "  ✅ Success: Semantic pixel coordinates for SAM!\n"
     ]
    }
   ],
   "source": [
    "class SemanticDummyPointsGenerator(DummyPointsGenerator):\n",
    "    \"\"\"Enhanced dummy points generator with semantic coordinates\"\"\"\n",
    "    \n",
    "    def generate(self, input_name: str, framework: str = \"pt\", int_dtype: str = \"int64\", float_dtype: str = \"fp32\"):\n",
    "        if input_name == \"input_points\":\n",
    "            # 🔥 THE FIX: Use semantic pixel coordinates [0, 1024] instead of [0, 1]\n",
    "            shape = [self.batch_size, self.point_batch_size, self.nb_points_per_image, 2]\n",
    "            return self.random_float_tensor(\n",
    "                shape, \n",
    "                min_value=0, \n",
    "                max_value=1024,  # Semantic pixel coordinates\n",
    "                framework=framework, \n",
    "                dtype=float_dtype\n",
    "            )\n",
    "        return super().generate(input_name, framework, int_dtype, float_dtype)\n",
    "\n",
    "\n",
    "def injection_method():\n",
    "    \"\"\"Method 1: Inject into DUMMY_INPUT_GENERATOR_CLASSES (Recommended)\"\"\"\n",
    "    print(\"\\n✅ Method 1: Injection (Recommended)\")\n",
    "    print(\"=\" * 50)\n",
    "    \n",
    "    # Get fresh config\n",
    "    config = AutoConfig.from_pretrained(MODEL_NAME)\n",
    "    constructor = TasksManager.get_exporter_config_constructor(\n",
    "        exporter=\"onnx\",\n",
    "        model_type=config.model_type,\n",
    "        task=\"feature-extraction\",\n",
    "        library_name=\"transformers\"\n",
    "    )\n",
    "    export_config = constructor(config)\n",
    "    \n",
    "    print(f\"Original classes: {[cls.__name__ for cls in export_config.DUMMY_INPUT_GENERATOR_CLASSES]}\")\n",
    "    \n",
    "    # 🎯 INJECTION: Replace only the DummyPointsGenerator\n",
    "    original_classes = export_config.DUMMY_INPUT_GENERATOR_CLASSES\n",
    "    export_config.DUMMY_INPUT_GENERATOR_CLASSES = (\n",
    "        original_classes[0],  # DummyVisionInputGenerator (unchanged)\n",
    "        SemanticDummyPointsGenerator,  # 🔥 Our semantic version\n",
    "        original_classes[2],  # DummyVisionEmbeddingsGenerator (unchanged)\n",
    "    )\n",
    "    \n",
    "    print(f\"Injected classes: {[cls.__name__ for cls in export_config.DUMMY_INPUT_GENERATOR_CLASSES]}\")\n",
    "    \n",
    "    # Generate with fix\n",
    "    fixed_inputs = export_config.generate_dummy_inputs(framework=\"pt\")\n",
    "    \n",
    "    if \"input_points\" in fixed_inputs:\n",
    "        coords = fixed_inputs[\"input_points\"]\n",
    "        print(f\"\\nFixed coordinates:\")\n",
    "        print(f\"  Shape: {coords.shape}\")\n",
    "        print(f\"  Range: [{coords.min():.1f}, {coords.max():.1f}]\")\n",
    "        print(f\"  Sample: {coords[0, 0, 0].tolist()}\")\n",
    "        print(f\"  ✅ Success: Semantic pixel coordinates for SAM!\")\n",
    "    \n",
    "    return export_config, fixed_inputs\n",
    "\n",
    "injection_config, injection_inputs = injection_method()"
   ]
  },
  {
   "cell_type": "markdown",
   "metadata": {},
   "source": [
    "## Step 3: Method 2 - Monkey Patching (Not Recommended)"
   ]
  },
  {
   "cell_type": "code",
   "execution_count": 4,
   "metadata": {},
   "outputs": [
    {
     "name": "stdout",
     "output_type": "stream",
     "text": [
      "\n",
      "⚠️ Method 2: Monkey Patching (Not Recommended)\n",
      "==================================================\n",
      "✅ Monkey patched DummyPointsGenerator globally\n",
      "\n",
      "Patched coordinates:\n",
      "  Shape: torch.Size([2, 3, 2, 2])\n",
      "  Range: [0.0, 0.8]\n",
      "  Sample: [0.07427006959915161, 0.43777358531951904]\n",
      "  ✅ Works: But affects ALL future DummyPointsGenerator usage!\n",
      "✅ Restored original DummyPointsGenerator\n"
     ]
    }
   ],
   "source": [
    "def monkey_patching_method():\n",
    "    \"\"\"Method 2: Monkey Patching (Not recommended - shown for comparison)\"\"\"\n",
    "    print(\"\\n⚠️ Method 2: Monkey Patching (Not Recommended)\")\n",
    "    print(\"=\" * 50)\n",
    "    \n",
    "    # Store original for restoration\n",
    "    import optimum.utils.input_generators as generators\n",
    "    original_generator = generators.DummyPointsGenerator\n",
    "    \n",
    "    try:\n",
    "        # 🔥 MONKEY PATCH: Replace globally\n",
    "        generators.DummyPointsGenerator = SemanticDummyPointsGenerator\n",
    "        print(\"✅ Monkey patched DummyPointsGenerator globally\")\n",
    "        \n",
    "        # Get config (will use patched generator)\n",
    "        config = AutoConfig.from_pretrained(MODEL_NAME)\n",
    "        constructor = TasksManager.get_exporter_config_constructor(\n",
    "            exporter=\"onnx\",\n",
    "            model_type=config.model_type,\n",
    "            task=\"feature-extraction\",\n",
    "            library_name=\"transformers\"\n",
    "        )\n",
    "        export_config = constructor(config)\n",
    "        \n",
    "        # Generate with patched version\n",
    "        patched_inputs = export_config.generate_dummy_inputs(framework=\"pt\")\n",
    "        \n",
    "        if \"input_points\" in patched_inputs:\n",
    "            coords = patched_inputs[\"input_points\"]\n",
    "            print(f\"\\nPatched coordinates:\")\n",
    "            print(f\"  Shape: {coords.shape}\")\n",
    "            print(f\"  Range: [{coords.min():.1f}, {coords.max():.1f}]\")\n",
    "            print(f\"  Sample: {coords[0, 0, 0].tolist()}\")\n",
    "            print(f\"  ✅ Works: But affects ALL future DummyPointsGenerator usage!\")\n",
    "        \n",
    "        return export_config, patched_inputs\n",
    "        \n",
    "    finally:\n",
    "        # 🚨 CRITICAL: Must restore original\n",
    "        generators.DummyPointsGenerator = original_generator\n",
    "        print(\"✅ Restored original DummyPointsGenerator\")\n",
    "\n",
    "monkey_config, monkey_inputs = monkey_patching_method()"
   ]
  },
  {
   "cell_type": "markdown",
   "metadata": {},
   "source": [
    "## Step 4: Comparison and Analysis"
   ]
  },
  {
   "cell_type": "code",
   "execution_count": null,
   "metadata": {},
   "outputs": [],
   "source": [
    "def compare_methods():\n",
    "    \"\"\"Compare all methods side by side\"\"\"\n",
    "    print(\"\\n📊 Method Comparison\")\n",
    "    print(\"=\" * 70)\n",
    "    \n",
    "    methods = [\n",
    "        (\"Original (Problem)\", original_inputs),\n",
    "        (\"Injection (Recommended)\", injection_inputs),\n",
    "        (\"Monkey Patching\", monkey_inputs)\n",
    "    ]\n",
    "    \n",
    "    for name, inputs in methods:\n",
    "        if \"input_points\" in inputs:\n",
    "            coords = inputs[\"input_points\"]\n",
    "            sample = coords[0, 0, 0]\n",
    "            print(f\"{name:25} | Range: [{coords.min():6.1f}, {coords.max():6.1f}] | Sample: ({sample[0]:6.1f}, {sample[1]:6.1f})\")\n",
    "    \n",
    "    print(\"\\n🏆 Recommendation: Use Injection Method\")\n",
    "    print(\"✅ Targeted: Only affects specific config instance\")\n",
    "    print(\"✅ Safe: No global side effects\")\n",
    "    print(\"✅ Clean: No try/finally needed\")\n",
    "    print(\"✅ Explicit: Clear what's being modified\")\n",
    "\n",
    "compare_methods()"
   ]
  },
  {
   "cell_type": "markdown",
   "metadata": {},
   "source": [
    "## Step 5: Production Implementation"
   ]
  },
  {
   "cell_type": "code",
   "execution_count": 5,
   "metadata": {},
   "outputs": [
    {
     "name": "stdout",
     "output_type": "stream",
     "text": [
      "\n",
      "🚀 Production Implementation Test\n",
      "==================================================\n",
      "🎯 Detected SAM model: applying semantic coordinate fix\n",
      "Production coordinates: [94.3, 978.7]\n",
      "✅ Ready for SAM model export!\n"
     ]
    }
   ],
   "source": [
    "def production_sam_fix(model_name_or_path: str):\n",
    "    \"\"\"Production-ready SAM coordinate fix using injection method\"\"\"\n",
    "    \n",
    "    # Get export config\n",
    "    config = AutoConfig.from_pretrained(model_name_or_path)\n",
    "    constructor = TasksManager.get_exporter_config_constructor(\n",
    "        exporter=\"onnx\",\n",
    "        model_type=config.model_type,\n",
    "        task=\"feature-extraction\",\n",
    "        library_name=\"transformers\"\n",
    "    )\n",
    "    export_config = constructor(config)\n",
    "    \n",
    "    # Apply SAM coordinate fix if needed\n",
    "    if \"sam\" in model_name_or_path.lower():\n",
    "        print(f\"🎯 Detected SAM model: applying semantic coordinate fix\")\n",
    "        \n",
    "        # Inject semantic generator\n",
    "        original_classes = export_config.DUMMY_INPUT_GENERATOR_CLASSES\n",
    "        export_config.DUMMY_INPUT_GENERATOR_CLASSES = (\n",
    "            original_classes[0],  # DummyVisionInputGenerator\n",
    "            SemanticDummyPointsGenerator,  # Our semantic version  \n",
    "            original_classes[2],  # DummyVisionEmbeddingsGenerator\n",
    "        )\n",
    "    \n",
    "    # Generate inputs\n",
    "    dummy_inputs = export_config.generate_dummy_inputs(framework=\"pt\")\n",
    "    \n",
    "    return export_config, dummy_inputs\n",
    "\n",
    "print(\"\\n🚀 Production Implementation Test\")\n",
    "print(\"=\" * 50)\n",
    "prod_config, prod_inputs = production_sam_fix(MODEL_NAME)\n",
    "\n",
    "if \"input_points\" in prod_inputs:\n",
    "    coords = prod_inputs[\"input_points\"]\n",
    "    print(f\"Production coordinates: [{coords.min():.1f}, {coords.max():.1f}]\")\n",
    "    print(f\"✅ Ready for SAM model export!\")"
   ]
  },
  {
   "cell_type": "markdown",
   "metadata": {},
   "source": [
    "## Summary\n",
    "\n",
    "### The Problem\n",
    "- SAM models need pixel coordinates like `(512, 384)`\n",
    "- Optimum generates decimals like `(0.512, 0.384)`\n",
    "- Export fails due to meaningless inputs\n",
    "\n",
    "### The Solution\n",
    "1. **Create** `SemanticDummyPointsGenerator` with `min_value=0, max_value=1024`\n",
    "2. **Inject** into `export_config.DUMMY_INPUT_GENERATOR_CLASSES[1]`\n",
    "3. **Generate** semantic coordinates automatically\n",
    "\n",
    "### Implementation\n",
    "- ✅ **5 lines** of actual fix code\n",
    "- ✅ **Transparent** to other components  \n",
    "- ✅ **Automatic** SAM detection\n",
    "- ✅ **No side effects** on other models\n",
    "\n",
    "### Code Location\n",
    "The fix is integrated into `modelexport/core/model_input_generator.py` using the injection method."
   ]
  }
 ],
 "metadata": {
  "kernelspec": {
   "display_name": "Python 3 (ipykernel)",
   "language": "python",
   "name": "python3"
  },
  "language_info": {
   "codemirror_mode": {
    "name": "ipython",
    "version": 3
   },
   "file_extension": ".py",
   "mimetype": "text/x-python",
   "name": "python",
   "nbconvert_exporter": "python",
   "pygments_lexer": "ipython3",
   "version": "3.12.11"
  }
 },
 "nbformat": 4,
 "nbformat_minor": 4
}
